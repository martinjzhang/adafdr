{
 "cells": [
  {
   "cell_type": "code",
   "execution_count": 1,
   "metadata": {},
   "outputs": [],
   "source": [
    "import adafdr.method as md\n",
    "import adafdr.data_loader as dl\n",
    "\n",
    "%matplotlib inline\n",
    "%load_ext autoreload\n",
    "%autoreload 2"
   ]
  },
  {
   "cell_type": "code",
   "execution_count": 2,
   "metadata": {},
   "outputs": [
    {
     "data": {
      "text/plain": [
       "<function adafdr.method.bh_test>"
      ]
     },
     "execution_count": 2,
     "metadata": {},
     "output_type": "execute_result"
    }
   ],
   "source": [
    "md.bh_test"
   ]
  },
  {
   "cell_type": "code",
   "execution_count": 9,
   "metadata": {},
   "outputs": [
    {
     "data": {
      "text/plain": [
       "<function adafdr.data_loader.load_100D>"
      ]
     },
     "execution_count": 9,
     "metadata": {},
     "output_type": "execute_result"
    }
   ],
   "source": [
    "dl.load_100D"
   ]
  },
  {
   "cell_type": "code",
   "execution_count": 4,
   "metadata": {},
   "outputs": [
    {
     "name": "stdout",
     "output_type": "stream",
     "text": [
      "Help on function ML_slope in module adafdr.method:\n",
      "\n",
      "ML_slope(x, v=None, c=0.005)\n",
      "    ML fit of the slope a/(e^a-1) e^(ax), defined over [0,1]\n",
      "    \n",
      "    Parameters\n",
      "    ----------\n",
      "    x : (n,d) ndarray\n",
      "        covaraites\n",
      "    v : (n,) ndarray \n",
      "        weight for each sample\n",
      "    c : float\n",
      "        regularization factor \n",
      "    \n",
      "    Returns\n",
      "    -------\n",
      "    (d,) ndarray\n",
      "        the estiamted slope parameter\n",
      "\n"
     ]
    }
   ],
   "source": [
    "help(md.ML_slope)"
   ]
  },
  {
   "cell_type": "code",
   "execution_count": null,
   "metadata": {},
   "outputs": [],
   "source": []
  }
 ],
 "metadata": {
  "kernelspec": {
   "display_name": "Python 3",
   "language": "python",
   "name": "python3"
  },
  "language_info": {
   "codemirror_mode": {
    "name": "ipython",
    "version": 3
   },
   "file_extension": ".py",
   "mimetype": "text/x-python",
   "name": "python",
   "nbconvert_exporter": "python",
   "pygments_lexer": "ipython3",
   "version": "3.6.3"
  }
 },
 "nbformat": 4,
 "nbformat_minor": 2
}
